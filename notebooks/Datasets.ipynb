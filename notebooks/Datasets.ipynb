{
 "cells": [
  {
   "cell_type": "markdown",
   "metadata": {},
   "source": [
    "# Datasets\n",
    "\n",
    "Datasets are what machine learning algorithms learn from.\n",
    "\n",
    "Traditionally, they are structured such that each row is the representation of an object, and each column is some feature - a property of the object. The dataset is therefore a matrix.\n",
    "\n",
    "A common machine learning dataset is the Iris dataset..."
   ]
  },
  {
   "cell_type": "code",
   "execution_count": 1,
   "metadata": {},
   "outputs": [
    {
     "name": "stdout",
     "output_type": "stream",
     "text": [
      "     Sepal length  Sepal width  Petal length  Petal width           Class\n",
      "0             5.1          3.5           1.4          0.2     Iris-setosa\n",
      "1             4.9          3.0           1.4          0.2     Iris-setosa\n",
      "2             4.7          3.2           1.3          0.2     Iris-setosa\n",
      "3             4.6          3.1           1.5          0.2     Iris-setosa\n",
      "4             5.0          3.6           1.4          0.2     Iris-setosa\n",
      "5             5.4          3.9           1.7          0.4     Iris-setosa\n",
      "6             4.6          3.4           1.4          0.3     Iris-setosa\n",
      "7             5.0          3.4           1.5          0.2     Iris-setosa\n",
      "8             4.4          2.9           1.4          0.2     Iris-setosa\n",
      "9             4.9          3.1           1.5          0.1     Iris-setosa\n",
      "10            5.4          3.7           1.5          0.2     Iris-setosa\n",
      "11            4.8          3.4           1.6          0.2     Iris-setosa\n",
      "12            4.8          3.0           1.4          0.1     Iris-setosa\n",
      "13            4.3          3.0           1.1          0.1     Iris-setosa\n",
      "14            5.8          4.0           1.2          0.2     Iris-setosa\n",
      "15            5.7          4.4           1.5          0.4     Iris-setosa\n",
      "16            5.4          3.9           1.3          0.4     Iris-setosa\n",
      "17            5.1          3.5           1.4          0.3     Iris-setosa\n",
      "18            5.7          3.8           1.7          0.3     Iris-setosa\n",
      "19            5.1          3.8           1.5          0.3     Iris-setosa\n",
      "20            5.4          3.4           1.7          0.2     Iris-setosa\n",
      "21            5.1          3.7           1.5          0.4     Iris-setosa\n",
      "22            4.6          3.6           1.0          0.2     Iris-setosa\n",
      "23            5.1          3.3           1.7          0.5     Iris-setosa\n",
      "24            4.8          3.4           1.9          0.2     Iris-setosa\n",
      "25            5.0          3.0           1.6          0.2     Iris-setosa\n",
      "26            5.0          3.4           1.6          0.4     Iris-setosa\n",
      "27            5.2          3.5           1.5          0.2     Iris-setosa\n",
      "28            5.2          3.4           1.4          0.2     Iris-setosa\n",
      "29            4.7          3.2           1.6          0.2     Iris-setosa\n",
      "..            ...          ...           ...          ...             ...\n",
      "120           6.9          3.2           5.7          2.3  Iris-virginica\n",
      "121           5.6          2.8           4.9          2.0  Iris-virginica\n",
      "122           7.7          2.8           6.7          2.0  Iris-virginica\n",
      "123           6.3          2.7           4.9          1.8  Iris-virginica\n",
      "124           6.7          3.3           5.7          2.1  Iris-virginica\n",
      "125           7.2          3.2           6.0          1.8  Iris-virginica\n",
      "126           6.2          2.8           4.8          1.8  Iris-virginica\n",
      "127           6.1          3.0           4.9          1.8  Iris-virginica\n",
      "128           6.4          2.8           5.6          2.1  Iris-virginica\n",
      "129           7.2          3.0           5.8          1.6  Iris-virginica\n",
      "130           7.4          2.8           6.1          1.9  Iris-virginica\n",
      "131           7.9          3.8           6.4          2.0  Iris-virginica\n",
      "132           6.4          2.8           5.6          2.2  Iris-virginica\n",
      "133           6.3          2.8           5.1          1.5  Iris-virginica\n",
      "134           6.1          2.6           5.6          1.4  Iris-virginica\n",
      "135           7.7          3.0           6.1          2.3  Iris-virginica\n",
      "136           6.3          3.4           5.6          2.4  Iris-virginica\n",
      "137           6.4          3.1           5.5          1.8  Iris-virginica\n",
      "138           6.0          3.0           4.8          1.8  Iris-virginica\n",
      "139           6.9          3.1           5.4          2.1  Iris-virginica\n",
      "140           6.7          3.1           5.6          2.4  Iris-virginica\n",
      "141           6.9          3.1           5.1          2.3  Iris-virginica\n",
      "142           5.8          2.7           5.1          1.9  Iris-virginica\n",
      "143           6.8          3.2           5.9          2.3  Iris-virginica\n",
      "144           6.7          3.3           5.7          2.5  Iris-virginica\n",
      "145           6.7          3.0           5.2          2.3  Iris-virginica\n",
      "146           6.3          2.5           5.0          1.9  Iris-virginica\n",
      "147           6.5          3.0           5.2          2.0  Iris-virginica\n",
      "148           6.2          3.4           5.4          2.3  Iris-virginica\n",
      "149           5.9          3.0           5.1          1.8  Iris-virginica\n",
      "\n",
      "[150 rows x 5 columns]\n"
     ]
    }
   ],
   "source": [
    "import pandas as pd\n",
    "df = pd.read_csv(\"../data/iris.csv\")\n",
    "print(df)"
   ]
  },
  {
   "cell_type": "markdown",
   "metadata": {},
   "source": [
    "This has been loaded from CSV. It has 150 rows, meaning that this dataset contains information on 150 iris flowers. It has five columns, meaning that for each flower, five properties have been measured.\n",
    "\n",
    "Four of the columns are continuous numbers, and the fifth is a discrete class (the species of flower).\n",
    "\n",
    "This dataset could be used in supervised learning - the petal width could be predicted from some combination of the other measurements (a regression problem), or the class of flower could be predicted from some combination of the other measurements (a classification problem). In fact most of supervised learning boils down to trying to predict one column value from information in other columns.\n",
    "\n",
    "Or, this dataset could be used in unsupervised learning - the data might fall into identifiable clusters, or there might be redundant dimensions that can be removed while retaining the same information.\n",
    "\n",
    "It can be hard to visualise data when it has five dimensions, but if columns are removed the data can be visualised more easily. The simplest version of this removes all but one column..."
   ]
  },
  {
   "cell_type": "code",
   "execution_count": 4,
   "metadata": {
    "scrolled": true
   },
   "outputs": [
    {
     "name": "stdout",
     "output_type": "stream",
     "text": [
      "     Sepal length\n",
      "0             5.1\n",
      "1             4.9\n",
      "2             4.7\n",
      "3             4.6\n",
      "4             5.0\n",
      "5             5.4\n",
      "6             4.6\n",
      "7             5.0\n",
      "8             4.4\n",
      "9             4.9\n",
      "10            5.4\n",
      "11            4.8\n",
      "12            4.8\n",
      "13            4.3\n",
      "14            5.8\n",
      "15            5.7\n",
      "16            5.4\n",
      "17            5.1\n",
      "18            5.7\n",
      "19            5.1\n",
      "20            5.4\n",
      "21            5.1\n",
      "22            4.6\n",
      "23            5.1\n",
      "24            4.8\n",
      "25            5.0\n",
      "26            5.0\n",
      "27            5.2\n",
      "28            5.2\n",
      "29            4.7\n",
      "..            ...\n",
      "120           6.9\n",
      "121           5.6\n",
      "122           7.7\n",
      "123           6.3\n",
      "124           6.7\n",
      "125           7.2\n",
      "126           6.2\n",
      "127           6.1\n",
      "128           6.4\n",
      "129           7.2\n",
      "130           7.4\n",
      "131           7.9\n",
      "132           6.4\n",
      "133           6.3\n",
      "134           6.1\n",
      "135           7.7\n",
      "136           6.3\n",
      "137           6.4\n",
      "138           6.0\n",
      "139           6.9\n",
      "140           6.7\n",
      "141           6.9\n",
      "142           5.8\n",
      "143           6.8\n",
      "144           6.7\n",
      "145           6.7\n",
      "146           6.3\n",
      "147           6.5\n",
      "148           6.2\n",
      "149           5.9\n",
      "\n",
      "[150 rows x 1 columns]\n"
     ]
    },
    {
     "data": {
      "image/png": "[encoded data removed]",
      "text/plain": [
       "<Figure size 432x288 with 1 Axes>"
      ]
     },
     "metadata": {
      "needs_background": "light"
     },
     "output_type": "display_data"
    }
   ],
   "source": [
    "import sys; sys.path.append(\"..\")\n",
    "import discerus\n",
    "sepal_length = df.iloc[:, [0]]\n",
    "print(sepal_length)\n",
    "discerus.plot_dataset(sepal_length)"
   ]
  },
  {
   "cell_type": "markdown",
   "metadata": {},
   "source": [
    "Here the distribution of all the values in the first feature column is shown. No output label was supplied, so the column is treated as a single variable. If an output label is supplied, the different distributions can be seen."
   ]
  },
  {
   "cell_type": "code",
   "execution_count": 3,
   "metadata": {},
   "outputs": [
    {
     "data": {
      "image/png": "[encoded data removed]",
      "text/plain": [
       "<Figure size 432x288 with 1 Axes>"
      ]
     },
     "metadata": {
      "needs_background": "light"
     },
     "output_type": "display_data"
    }
   ],
   "source": [
    "sepal_length_annotated = df.iloc[:, [0, -1]]\n",
    "discerus.plot_dataset(sepal_length_annotated, output=True)"
   ]
  },
  {
   "cell_type": "code",
   "execution_count": null,
   "metadata": {},
   "outputs": [],
   "source": []
  }
 ],
 "metadata": {
  "kernelspec": {
   "display_name": "Python 3",
   "language": "python",
   "name": "python3"
  },
  "language_info": {
   "codemirror_mode": {
    "name": "ipython",
    "version": 3
   },
   "file_extension": ".py",
   "mimetype": "text/x-python",
   "name": "python",
   "nbconvert_exporter": "python",
   "pygments_lexer": "ipython3",
   "version": "3.7.2"
  }
 },
 "nbformat": 4,
 "nbformat_minor": 2
}
