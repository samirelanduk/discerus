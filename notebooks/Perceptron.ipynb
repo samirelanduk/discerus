{
 "cells": [
  {
   "cell_type": "markdown",
   "metadata": {},
   "source": [
    "# Perceptrons\n",
    "\n",
    "Machine learning uses datasets to train models. A Model is an object which takes an input vector, and maps it some output value.\n",
    "\n",
    "A model takes a set of training examples, and learns values for some internal parameters which enable it best predict outputs for them.\n",
    "\n",
    "The simplest model is the Perceptron. This is a model which multiplies each input by some weight to get a net activation, similar to how a neuron works. If this net activation is above some threshold (also a parameter), then one category is predicted - otherwise another one is.\n",
    "\n",
    "In this example, a subset of the Iris dataset will be used in which there are only two output classes, and two features..."
   ]
  },
  {
   "cell_type": "code",
   "execution_count": 1,
   "metadata": {},
   "outputs": [
    {
     "data": {
      "text/plain": [
       "<Figure size 640x480 with 1 Axes>"
      ]
     },
     "metadata": {},
     "output_type": "display_data"
    }
   ],
   "source": [
    "import pandas as pd\n",
    "import numpy as np\n",
    "import sys; sys.path.append(\"..\")\n",
    "import discerus\n",
    "df = pd.read_csv(\"../data/iris.csv\")\n",
    "sepal_data_annotated = df.iloc[:100, [0, 1, -1]]\n",
    "discerus.plot_dataset(sepal_data_annotated, output=True)"
   ]
  },
  {
   "cell_type": "markdown",
   "metadata": {},
   "source": [
    "When a Perceptron is created, it is given training data so that it knows the dimensionality of the objects it will be taking as inputs, and creates initial values for its parameters. A perceptron has a parameter for its threshold, and parameters for the weights. So in this case, it will have three parameters."
   ]
  },
  {
   "cell_type": "code",
   "execution_count": 2,
   "metadata": {},
   "outputs": [
    {
     "name": "stdout",
     "output_type": "stream",
     "text": [
      "<untrained Perceptron (threshold=0, weights=[1. 1.])>\n"
     ]
    }
   ],
   "source": [
    "perceptron = discerus.Perceptron(sepal_data_annotated)\n",
    "print(perceptron)"
   ]
  },
  {
   "cell_type": "markdown",
   "metadata": {},
   "source": [
    "The initial value for the threshold is 0, and the weights are all 1. This means that the net activation for any input is just the sum of the values in the input vector, and if that is positive, 1 will be returned, else -1."
   ]
  },
  {
   "cell_type": "code",
   "execution_count": 3,
   "metadata": {},
   "outputs": [
    {
     "data": {
      "text/plain": [
       "array(-1)"
      ]
     },
     "execution_count": 3,
     "metadata": {},
     "output_type": "execute_result"
    }
   ],
   "source": [
    "priperceptron.net_activation([1, -3])\n",
    "perceptron.predict([1, -3])"
   ]
  },
  {
   "cell_type": "code",
   "execution_count": null,
   "metadata": {},
   "outputs": [],
   "source": []
  }
 ],
 "metadata": {
  "kernelspec": {
   "display_name": "Python 3",
   "language": "python",
   "name": "python3"
  },
  "language_info": {
   "codemirror_mode": {
    "name": "ipython",
    "version": 3
   },
   "file_extension": ".py",
   "mimetype": "text/x-python",
   "name": "python",
   "nbconvert_exporter": "python",
   "pygments_lexer": "ipython3",
   "version": "3.7.2"
  }
 },
 "nbformat": 4,
 "nbformat_minor": 2
}
