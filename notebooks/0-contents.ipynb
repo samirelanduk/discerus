{
 "cells": [
  {
   "cell_type": "markdown",
   "metadata": {},
   "source": [
    "# Contents\n",
    "\n",
    "## [1. Functions](./1-functions.ipynb)\n",
    "\n",
    "Functions, vectors and dimensions.\n",
    "\n",
    "## [2. Machine Learning Overview](./2-ML.ipynb)\n",
    "\n",
    "What machine learning is.\n",
    "\n",
    "## Unsupervised Learning Overview\n",
    "\n",
    "## Supervised Learning Overview\n",
    "\n",
    "## Gradient Descent\n",
    "\n",
    "## Simple Regression\n",
    "\n",
    "## Simple Classification\n",
    "\n",
    "## SVM\n",
    "\n",
    "## Decision Trees and Random Forests\n",
    "\n",
    "## Neural Networks\n",
    "\n",
    "## Convolutional Neural Networks\n",
    "\n",
    "## Recurrent Neural Networks\n",
    "\n",
    "## Generative Neural Networks\n",
    "\n",
    "## Word Processing"
   ]
  },
  {
   "cell_type": "markdown",
   "metadata": {},
   "source": [
    "Logistic Regression?\n",
    "\n",
    "KNN?\n",
    "\n",
    "Naive Bayes?"
   ]
  },
  {
   "cell_type": "code",
   "execution_count": null,
   "metadata": {},
   "outputs": [],
   "source": []
  }
 ],
 "metadata": {
  "kernelspec": {
   "display_name": "Python 3",
   "language": "python",
   "name": "python3"
  },
  "language_info": {
   "codemirror_mode": {
    "name": "ipython",
    "version": 3
   },
   "file_extension": ".py",
   "mimetype": "text/x-python",
   "name": "python",
   "nbconvert_exporter": "python",
   "pygments_lexer": "ipython3",
   "version": "3.7.2"
  }
 },
 "nbformat": 4,
 "nbformat_minor": 2
}
