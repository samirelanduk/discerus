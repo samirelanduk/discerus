{
 "cells": [
  {
   "cell_type": "markdown",
   "metadata": {},
   "source": [
    "# Machine Learning"
   ]
  },
  {
   "cell_type": "markdown",
   "metadata": {},
   "source": [
    "Machine learning refers to algorithms which perform some task, and which get better at that task with experience.\n",
    "\n",
    "Two important types of machine learning are supervised learning and unsupervised learning.\n",
    "\n",
    "Supervised Learning - classification and regression.\n",
    "\n",
    "Unsupervised learning\n",
    "\n",
    "Deep Learning\n",
    "\n",
    "Don't get hung up on categories\n",
    "\n",
    "Lots of examples - cool examples of things described as machine learning, and what category they go in.\n",
    "\n",
    "Tie in with functions."
   ]
  }
 ],
 "metadata": {
  "kernelspec": {
   "display_name": "Python 3",
   "language": "python",
   "name": "python3"
  },
  "language_info": {
   "codemirror_mode": {
    "name": "ipython",
    "version": 3
   },
   "file_extension": ".py",
   "mimetype": "text/x-python",
   "name": "python",
   "nbconvert_exporter": "python",
   "pygments_lexer": "ipython3",
   "version": "3.7.2"
  }
 },
 "nbformat": 4,
 "nbformat_minor": 2
}
